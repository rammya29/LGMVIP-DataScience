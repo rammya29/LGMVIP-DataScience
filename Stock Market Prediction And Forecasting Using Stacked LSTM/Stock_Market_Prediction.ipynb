{
  "nbformat": 4,
  "nbformat_minor": 0,
  "metadata": {
    "colab": {
      "name": "Stock Market Prediction.ipynb",
      "provenance": [],
      "collapsed_sections": []
    },
    "kernelspec": {
      "name": "python3",
      "display_name": "Python 3"
    },
    "language_info": {
      "name": "python"
    }
  },
  "cells": [
    {
      "cell_type": "markdown",
      "metadata": {
        "id": "7ts_A3W4JQMJ"
      },
      "source": [
        "# Stock Market Prediction And Forecasting Using Stacked LSTM"
      ]
    },
    {
      "cell_type": "markdown",
      "metadata": {
        "id": "XmK_qV_9JS9Z"
      },
      "source": [
        "## LGM  - Data Science Intern\n",
        "\n",
        "***Author*** : Rammya Dharshini K\n",
        "\n",
        "***Date*** : 10.08.2021"
      ]
    },
    {
      "cell_type": "markdown",
      "metadata": {
        "id": "gfVne52bJjp0"
      },
      "source": [
        "## Task - 2 : Beginner Level"
      ]
    },
    {
      "cell_type": "markdown",
      "metadata": {
        "id": "WJLmm2oZJrKK"
      },
      "source": [
        "Data Collection"
      ]
    },
    {
      "cell_type": "code",
      "metadata": {
        "id": "NdWdgEfzglNu"
      },
      "source": [
        "import pandas_datareader as pdr\n",
        "key=\"2f501b0434120151882652d52c5df515cffe5c09\""
      ],
      "execution_count": 1,
      "outputs": []
    },
    {
      "cell_type": "code",
      "metadata": {
        "id": "WK7ZcPw_KJcH"
      },
      "source": [
        "df = pdr.get_data_tiingo('AAPL', api_key=key)"
      ],
      "execution_count": 2,
      "outputs": []
    },
    {
      "cell_type": "code",
      "metadata": {
        "id": "nP2C6gugKJW-"
      },
      "source": [
        "df.to_csv('AAPL.csv')"
      ],
      "execution_count": 3,
      "outputs": []
    },
    {
      "cell_type": "code",
      "metadata": {
        "id": "0iKUDYiOKJRN"
      },
      "source": [
        "import pandas as pd"
      ],
      "execution_count": 4,
      "outputs": []
    },
    {
      "cell_type": "code",
      "metadata": {
        "id": "-2_VY4bQLO6a"
      },
      "source": [
        "df=pd.read_csv('AAPL.csv')"
      ],
      "execution_count": 5,
      "outputs": []
    },
    {
      "cell_type": "code",
      "metadata": {
        "colab": {
          "base_uri": "https://localhost:8080/",
          "height": 292
        },
        "id": "5cA0YPeeLO21",
        "outputId": "5017927b-2c1b-4dd7-9e87-a780c452db01"
      },
      "source": [
        "df.head()"
      ],
      "execution_count": 6,
      "outputs": [
        {
          "output_type": "execute_result",
          "data": {
            "text/html": [
              "<div>\n",
              "<style scoped>\n",
              "    .dataframe tbody tr th:only-of-type {\n",
              "        vertical-align: middle;\n",
              "    }\n",
              "\n",
              "    .dataframe tbody tr th {\n",
              "        vertical-align: top;\n",
              "    }\n",
              "\n",
              "    .dataframe thead th {\n",
              "        text-align: right;\n",
              "    }\n",
              "</style>\n",
              "<table border=\"1\" class=\"dataframe\">\n",
              "  <thead>\n",
              "    <tr style=\"text-align: right;\">\n",
              "      <th></th>\n",
              "      <th>symbol</th>\n",
              "      <th>date</th>\n",
              "      <th>close</th>\n",
              "      <th>high</th>\n",
              "      <th>low</th>\n",
              "      <th>open</th>\n",
              "      <th>volume</th>\n",
              "      <th>adjClose</th>\n",
              "      <th>adjHigh</th>\n",
              "      <th>adjLow</th>\n",
              "      <th>adjOpen</th>\n",
              "      <th>adjVolume</th>\n",
              "      <th>divCash</th>\n",
              "      <th>splitFactor</th>\n",
              "    </tr>\n",
              "  </thead>\n",
              "  <tbody>\n",
              "    <tr>\n",
              "      <th>0</th>\n",
              "      <td>AAPL</td>\n",
              "      <td>2016-08-19 00:00:00+00:00</td>\n",
              "      <td>109.36</td>\n",
              "      <td>109.69</td>\n",
              "      <td>108.36</td>\n",
              "      <td>108.770</td>\n",
              "      <td>25368072</td>\n",
              "      <td>25.635929</td>\n",
              "      <td>25.713286</td>\n",
              "      <td>25.401511</td>\n",
              "      <td>25.497622</td>\n",
              "      <td>101472288</td>\n",
              "      <td>0.0</td>\n",
              "      <td>1.0</td>\n",
              "    </tr>\n",
              "    <tr>\n",
              "      <th>1</th>\n",
              "      <td>AAPL</td>\n",
              "      <td>2016-08-22 00:00:00+00:00</td>\n",
              "      <td>108.51</td>\n",
              "      <td>109.10</td>\n",
              "      <td>107.85</td>\n",
              "      <td>108.860</td>\n",
              "      <td>25820230</td>\n",
              "      <td>25.436673</td>\n",
              "      <td>25.574980</td>\n",
              "      <td>25.281958</td>\n",
              "      <td>25.518720</td>\n",
              "      <td>103280920</td>\n",
              "      <td>0.0</td>\n",
              "      <td>1.0</td>\n",
              "    </tr>\n",
              "    <tr>\n",
              "      <th>2</th>\n",
              "      <td>AAPL</td>\n",
              "      <td>2016-08-23 00:00:00+00:00</td>\n",
              "      <td>108.85</td>\n",
              "      <td>109.32</td>\n",
              "      <td>108.53</td>\n",
              "      <td>108.590</td>\n",
              "      <td>21257669</td>\n",
              "      <td>25.516376</td>\n",
              "      <td>25.626552</td>\n",
              "      <td>25.441362</td>\n",
              "      <td>25.455427</td>\n",
              "      <td>85030676</td>\n",
              "      <td>0.0</td>\n",
              "      <td>1.0</td>\n",
              "    </tr>\n",
              "    <tr>\n",
              "      <th>3</th>\n",
              "      <td>AAPL</td>\n",
              "      <td>2016-08-24 00:00:00+00:00</td>\n",
              "      <td>108.03</td>\n",
              "      <td>108.75</td>\n",
              "      <td>107.68</td>\n",
              "      <td>108.565</td>\n",
              "      <td>23675081</td>\n",
              "      <td>25.324153</td>\n",
              "      <td>25.492934</td>\n",
              "      <td>25.242107</td>\n",
              "      <td>25.449566</td>\n",
              "      <td>94700324</td>\n",
              "      <td>0.0</td>\n",
              "      <td>1.0</td>\n",
              "    </tr>\n",
              "    <tr>\n",
              "      <th>4</th>\n",
              "      <td>AAPL</td>\n",
              "      <td>2016-08-25 00:00:00+00:00</td>\n",
              "      <td>107.57</td>\n",
              "      <td>107.88</td>\n",
              "      <td>106.68</td>\n",
              "      <td>107.390</td>\n",
              "      <td>25086248</td>\n",
              "      <td>25.216321</td>\n",
              "      <td>25.288990</td>\n",
              "      <td>25.007689</td>\n",
              "      <td>25.174126</td>\n",
              "      <td>100344992</td>\n",
              "      <td>0.0</td>\n",
              "      <td>1.0</td>\n",
              "    </tr>\n",
              "  </tbody>\n",
              "</table>\n",
              "</div>"
            ],
            "text/plain": [
              "  symbol                       date   close  ...  adjVolume  divCash  splitFactor\n",
              "0   AAPL  2016-08-19 00:00:00+00:00  109.36  ...  101472288      0.0          1.0\n",
              "1   AAPL  2016-08-22 00:00:00+00:00  108.51  ...  103280920      0.0          1.0\n",
              "2   AAPL  2016-08-23 00:00:00+00:00  108.85  ...   85030676      0.0          1.0\n",
              "3   AAPL  2016-08-24 00:00:00+00:00  108.03  ...   94700324      0.0          1.0\n",
              "4   AAPL  2016-08-25 00:00:00+00:00  107.57  ...  100344992      0.0          1.0\n",
              "\n",
              "[5 rows x 14 columns]"
            ]
          },
          "metadata": {
            "tags": []
          },
          "execution_count": 6
        }
      ]
    },
    {
      "cell_type": "code",
      "metadata": {
        "colab": {
          "base_uri": "https://localhost:8080/",
          "height": 292
        },
        "id": "lLwHGYqULOsn",
        "outputId": "bdf4a5f3-4b80-4084-912b-bbcdcd7d0479"
      },
      "source": [
        "df.tail()"
      ],
      "execution_count": 7,
      "outputs": [
        {
          "output_type": "execute_result",
          "data": {
            "text/html": [
              "<div>\n",
              "<style scoped>\n",
              "    .dataframe tbody tr th:only-of-type {\n",
              "        vertical-align: middle;\n",
              "    }\n",
              "\n",
              "    .dataframe tbody tr th {\n",
              "        vertical-align: top;\n",
              "    }\n",
              "\n",
              "    .dataframe thead th {\n",
              "        text-align: right;\n",
              "    }\n",
              "</style>\n",
              "<table border=\"1\" class=\"dataframe\">\n",
              "  <thead>\n",
              "    <tr style=\"text-align: right;\">\n",
              "      <th></th>\n",
              "      <th>symbol</th>\n",
              "      <th>date</th>\n",
              "      <th>close</th>\n",
              "      <th>high</th>\n",
              "      <th>low</th>\n",
              "      <th>open</th>\n",
              "      <th>volume</th>\n",
              "      <th>adjClose</th>\n",
              "      <th>adjHigh</th>\n",
              "      <th>adjLow</th>\n",
              "      <th>adjOpen</th>\n",
              "      <th>adjVolume</th>\n",
              "      <th>divCash</th>\n",
              "      <th>splitFactor</th>\n",
              "    </tr>\n",
              "  </thead>\n",
              "  <tbody>\n",
              "    <tr>\n",
              "      <th>1252</th>\n",
              "      <td>AAPL</td>\n",
              "      <td>2021-08-11 00:00:00+00:00</td>\n",
              "      <td>145.86</td>\n",
              "      <td>146.7200</td>\n",
              "      <td>145.53</td>\n",
              "      <td>146.050</td>\n",
              "      <td>48493463</td>\n",
              "      <td>145.86</td>\n",
              "      <td>146.7200</td>\n",
              "      <td>145.53</td>\n",
              "      <td>146.050</td>\n",
              "      <td>48493463</td>\n",
              "      <td>0.0</td>\n",
              "      <td>1.0</td>\n",
              "    </tr>\n",
              "    <tr>\n",
              "      <th>1253</th>\n",
              "      <td>AAPL</td>\n",
              "      <td>2021-08-12 00:00:00+00:00</td>\n",
              "      <td>148.89</td>\n",
              "      <td>149.0500</td>\n",
              "      <td>145.84</td>\n",
              "      <td>146.190</td>\n",
              "      <td>73779113</td>\n",
              "      <td>148.89</td>\n",
              "      <td>149.0500</td>\n",
              "      <td>145.84</td>\n",
              "      <td>146.190</td>\n",
              "      <td>73779113</td>\n",
              "      <td>0.0</td>\n",
              "      <td>1.0</td>\n",
              "    </tr>\n",
              "    <tr>\n",
              "      <th>1254</th>\n",
              "      <td>AAPL</td>\n",
              "      <td>2021-08-13 00:00:00+00:00</td>\n",
              "      <td>149.10</td>\n",
              "      <td>149.4444</td>\n",
              "      <td>148.27</td>\n",
              "      <td>148.970</td>\n",
              "      <td>58846293</td>\n",
              "      <td>149.10</td>\n",
              "      <td>149.4444</td>\n",
              "      <td>148.27</td>\n",
              "      <td>148.970</td>\n",
              "      <td>58846293</td>\n",
              "      <td>0.0</td>\n",
              "      <td>1.0</td>\n",
              "    </tr>\n",
              "    <tr>\n",
              "      <th>1255</th>\n",
              "      <td>AAPL</td>\n",
              "      <td>2021-08-16 00:00:00+00:00</td>\n",
              "      <td>151.12</td>\n",
              "      <td>151.1900</td>\n",
              "      <td>146.47</td>\n",
              "      <td>148.535</td>\n",
              "      <td>103558782</td>\n",
              "      <td>151.12</td>\n",
              "      <td>151.1900</td>\n",
              "      <td>146.47</td>\n",
              "      <td>148.535</td>\n",
              "      <td>103558782</td>\n",
              "      <td>0.0</td>\n",
              "      <td>1.0</td>\n",
              "    </tr>\n",
              "    <tr>\n",
              "      <th>1256</th>\n",
              "      <td>AAPL</td>\n",
              "      <td>2021-08-17 00:00:00+00:00</td>\n",
              "      <td>150.19</td>\n",
              "      <td>151.6800</td>\n",
              "      <td>149.09</td>\n",
              "      <td>150.230</td>\n",
              "      <td>92229735</td>\n",
              "      <td>150.19</td>\n",
              "      <td>151.6800</td>\n",
              "      <td>149.09</td>\n",
              "      <td>150.230</td>\n",
              "      <td>92229735</td>\n",
              "      <td>0.0</td>\n",
              "      <td>1.0</td>\n",
              "    </tr>\n",
              "  </tbody>\n",
              "</table>\n",
              "</div>"
            ],
            "text/plain": [
              "     symbol                       date   close  ...  adjVolume  divCash  splitFactor\n",
              "1252   AAPL  2021-08-11 00:00:00+00:00  145.86  ...   48493463      0.0          1.0\n",
              "1253   AAPL  2021-08-12 00:00:00+00:00  148.89  ...   73779113      0.0          1.0\n",
              "1254   AAPL  2021-08-13 00:00:00+00:00  149.10  ...   58846293      0.0          1.0\n",
              "1255   AAPL  2021-08-16 00:00:00+00:00  151.12  ...  103558782      0.0          1.0\n",
              "1256   AAPL  2021-08-17 00:00:00+00:00  150.19  ...   92229735      0.0          1.0\n",
              "\n",
              "[5 rows x 14 columns]"
            ]
          },
          "metadata": {
            "tags": []
          },
          "execution_count": 7
        }
      ]
    },
    {
      "cell_type": "code",
      "metadata": {
        "id": "CJ0vtWBzLOov"
      },
      "source": [
        "df1=df.reset_index()['close']"
      ],
      "execution_count": 8,
      "outputs": []
    },
    {
      "cell_type": "code",
      "metadata": {
        "colab": {
          "base_uri": "https://localhost:8080/"
        },
        "id": "Y_7UMWCXLOk-",
        "outputId": "c71b7843-6a1b-412c-822c-216472e1c6e7"
      },
      "source": [
        "df1"
      ],
      "execution_count": 9,
      "outputs": [
        {
          "output_type": "execute_result",
          "data": {
            "text/plain": [
              "0       109.36\n",
              "1       108.51\n",
              "2       108.85\n",
              "3       108.03\n",
              "4       107.57\n",
              "         ...  \n",
              "1252    145.86\n",
              "1253    148.89\n",
              "1254    149.10\n",
              "1255    151.12\n",
              "1256    150.19\n",
              "Name: close, Length: 1257, dtype: float64"
            ]
          },
          "metadata": {
            "tags": []
          },
          "execution_count": 9
        }
      ]
    },
    {
      "cell_type": "code",
      "metadata": {
        "colab": {
          "base_uri": "https://localhost:8080/",
          "height": 283
        },
        "id": "6rpQeTiZLOgi",
        "outputId": "f08eb4e3-b760-4ad0-dac2-debd5bfd70fe"
      },
      "source": [
        "import matplotlib.pyplot as plt\n",
        "plt.plot(df1)"
      ],
      "execution_count": 10,
      "outputs": [
        {
          "output_type": "execute_result",
          "data": {
            "text/plain": [
              "[<matplotlib.lines.Line2D at 0x7f8d562ac510>]"
            ]
          },
          "metadata": {
            "tags": []
          },
          "execution_count": 10
        },
        {
          "output_type": "display_data",
          "data": {
            "image/png": "[encoded data removed]",
            "text/plain": [
              "<Figure size 432x288 with 1 Axes>"
            ]
          },
          "metadata": {
            "tags": [],
            "needs_background": "light"
          }
        }
      ]
    },
    {
      "cell_type": "code",
      "metadata": {
        "id": "lgS2Eo4_LOcw"
      },
      "source": [
        "import numpy as np"
      ],
      "execution_count": 11,
      "outputs": []
    },
    {
      "cell_type": "code",
      "metadata": {
        "colab": {
          "base_uri": "https://localhost:8080/"
        },
        "id": "Rmo69dDXLOWw",
        "outputId": "aec6a7b0-67c3-49c0-e99e-9d41bd42f2c4"
      },
      "source": [
        "df1"
      ],
      "execution_count": 12,
      "outputs": [
        {
          "output_type": "execute_result",
          "data": {
            "text/plain": [
              "0       109.36\n",
              "1       108.51\n",
              "2       108.85\n",
              "3       108.03\n",
              "4       107.57\n",
              "         ...  \n",
              "1252    145.86\n",
              "1253    148.89\n",
              "1254    149.10\n",
              "1255    151.12\n",
              "1256    150.19\n",
              "Name: close, Length: 1257, dtype: float64"
            ]
          },
          "metadata": {
            "tags": []
          },
          "execution_count": 12
        }
      ]
    },
    {
      "cell_type": "code",
      "metadata": {
        "id": "stYtJNyZLOSE"
      },
      "source": [
        "from sklearn.preprocessing import MinMaxScaler\n",
        "scaler=MinMaxScaler(feature_range=(0,1))\n",
        "df1=scaler.fit_transform(np.array(df1).reshape(-1,1))"
      ],
      "execution_count": 13,
      "outputs": []
    },
    {
      "cell_type": "code",
      "metadata": {
        "colab": {
          "base_uri": "https://localhost:8080/"
        },
        "id": "MLOeXO5uLOOc",
        "outputId": "447f0f8a-6d9d-4ca6-dfa8-3e42f8537ef7"
      },
      "source": [
        "print(df1)"
      ],
      "execution_count": 14,
      "outputs": [
        {
          "output_type": "stream",
          "text": [
            "[[0.01546059]\n",
            " [0.0133512 ]\n",
            " [0.01419496]\n",
            " ...\n",
            " [0.1140808 ]\n",
            " [0.11909371]\n",
            " [0.11678579]]\n"
          ],
          "name": "stdout"
        }
      ]
    },
    {
      "cell_type": "code",
      "metadata": {
        "id": "xQwtuanqLmX3"
      },
      "source": [
        "##splitting dataset into train and test split\n",
        "training_size=int(len(df1)*0.65)\n",
        "test_size=len(df1)-training_size\n",
        "train_data,test_data=df1[0:training_size,:],df1[training_size:len(df1),:1]"
      ],
      "execution_count": 15,
      "outputs": []
    },
    {
      "cell_type": "code",
      "metadata": {
        "colab": {
          "base_uri": "https://localhost:8080/"
        },
        "id": "KcHdtDYULoeQ",
        "outputId": "b8fba8a8-ed27-4129-ef0b-f2261e4789a3"
      },
      "source": [
        "training_size,test_size"
      ],
      "execution_count": 16,
      "outputs": [
        {
          "output_type": "execute_result",
          "data": {
            "text/plain": [
              "(817, 440)"
            ]
          },
          "metadata": {
            "tags": []
          },
          "execution_count": 16
        }
      ]
    },
    {
      "cell_type": "code",
      "metadata": {
        "colab": {
          "base_uri": "https://localhost:8080/"
        },
        "id": "Y1EMicT0LoaB",
        "outputId": "09f8c1c5-8c23-4729-ece7-37e5fe647d93"
      },
      "source": [
        "train_data"
      ],
      "execution_count": 17,
      "outputs": [
        {
          "output_type": "execute_result",
          "data": {
            "text/plain": [
              "array([[0.01546059],\n",
              "       [0.0133512 ],\n",
              "       [0.01419496],\n",
              "       [0.01216002],\n",
              "       [0.01101846],\n",
              "       [0.00945503],\n",
              "       [0.00915724],\n",
              "       [0.0071223 ],\n",
              "       [0.00737046],\n",
              "       [0.00893389],\n",
              "       [0.01141553],\n",
              "       [0.01134108],\n",
              "       [0.01297896],\n",
              "       [0.00593111],\n",
              "       [0.        ],\n",
              "       [0.00573258],\n",
              "       [0.01196149],\n",
              "       [0.02144133],\n",
              "       [0.03087155],\n",
              "       [0.02925849],\n",
              "       [0.0259331 ],\n",
              "       [0.02590828],\n",
              "       [0.02585865],\n",
              "       [0.028514  ],\n",
              "       [0.02377407],\n",
              "       [0.02419595],\n",
              "       [0.02471709],\n",
              "       [0.0268513 ],\n",
              "       [0.0224588 ],\n",
              "       [0.02461783],\n",
              "       [0.02330256],\n",
              "       [0.02449375],\n",
              "       [0.02461783],\n",
              "       [0.0267024 ],\n",
              "       [0.02712428],\n",
              "       [0.03206274],\n",
              "       [0.03268314],\n",
              "       [0.03526405],\n",
              "       [0.03437066],\n",
              "       [0.03598372],\n",
              "       [0.03578519],\n",
              "       [0.03558666],\n",
              "       [0.03471809],\n",
              "       [0.03456919],\n",
              "       [0.03342764],\n",
              "       [0.03603335],\n",
              "       [0.03752233],\n",
              "       [0.03092118],\n",
              "       [0.02816657],\n",
              "       [0.02628052],\n",
              "       [0.02583383],\n",
              "       [0.02074648],\n",
              "       [0.02099464],\n",
              "       [0.01662696],\n",
              "       [0.01417014],\n",
              "       [0.01806631],\n",
              "       [0.01967937],\n",
              "       [0.01923268],\n",
              "       [0.01156442],\n",
              "       [0.01315267],\n",
              "       [0.00640262],\n",
              "       [0.00987691],\n",
              "       [0.01702402],\n",
              "       [0.01692476],\n",
              "       [0.01719774],\n",
              "       [0.02134207],\n",
              "       [0.02151578],\n",
              "       [0.02010125],\n",
              "       [0.02149097],\n",
              "       [0.02094501],\n",
              "       [0.02067203],\n",
              "       [0.01833929],\n",
              "       [0.0157832 ],\n",
              "       [0.01680068],\n",
              "       [0.01484018],\n",
              "       [0.01692476],\n",
              "       [0.01960492],\n",
              "       [0.02230991],\n",
              "       [0.0268513 ],\n",
              "       [0.02523824],\n",
              "       [0.02992853],\n",
              "       [0.02992853],\n",
              "       [0.03149196],\n",
              "       [0.0318642 ],\n",
              "       [0.0335269 ],\n",
              "       [0.03429621],\n",
              "       [0.03456919],\n",
              "       [0.03265833],\n",
              "       [0.0332291 ],\n",
              "       [0.03506552],\n",
              "       [0.0338247 ],\n",
              "       [0.03375025],\n",
              "       [0.03149196],\n",
              "       [0.0323109 ],\n",
              "       [0.03198829],\n",
              "       [0.03345245],\n",
              "       [0.03667858],\n",
              "       [0.03935875],\n",
              "       [0.03965654],\n",
              "       [0.04124479],\n",
              "       [0.04000397],\n",
              "       [0.03948283],\n",
              "       [0.0418652 ],\n",
              "       [0.04184038],\n",
              "       [0.04131924],\n",
              "       [0.0418652 ],\n",
              "       [0.04206373],\n",
              "       [0.04179075],\n",
              "       [0.04653067],\n",
              "       [0.04667957],\n",
              "       [0.04670439],\n",
              "       [0.04591026],\n",
              "       [0.04521541],\n",
              "       [0.06357951],\n",
              "       [0.06303355],\n",
              "       [0.06439845],\n",
              "       [0.06740123],\n",
              "       [0.07047846],\n",
              "       [0.07174409],\n",
              "       [0.07268712],\n",
              "       [0.07194262],\n",
              "       [0.07484614],\n",
              "       [0.07913937],\n",
              "       [0.08035537],\n",
              "       [0.0799459 ],\n",
              "       [0.08087651],\n",
              "       [0.08330852],\n",
              "       [0.08432599],\n",
              "       [0.08288664],\n",
              "       [0.08320925],\n",
              "       [0.08387929],\n",
              "       [0.08402819],\n",
              "       [0.09097677],\n",
              "       [0.08891701],\n",
              "       [0.09095196],\n",
              "       [0.08986004],\n",
              "       [0.09030673],\n",
              "       [0.08901628],\n",
              "       [0.08822216],\n",
              "       [0.08936371],\n",
              "       [0.08951261],\n",
              "       [0.08899146],\n",
              "       [0.09263947],\n",
              "       [0.09321024],\n",
              "       [0.0914731 ],\n",
              "       [0.0951211 ],\n",
              "       [0.09110085],\n",
              "       [0.09502184],\n",
              "       [0.09378102],\n",
              "       [0.09308616],\n",
              "       [0.09368176],\n",
              "       [0.10092813],\n",
              "       [0.10172226],\n",
              "       [0.10125074],\n",
              "       [0.1005807 ],\n",
              "       [0.10067997],\n",
              "       [0.10333532],\n",
              "       [0.10147409],\n",
              "       [0.1005807 ],\n",
              "       [0.09978658],\n",
              "       [0.0993647 ],\n",
              "       [0.09554298],\n",
              "       [0.09596486],\n",
              "       [0.09410363],\n",
              "       [0.09603931],\n",
              "       [0.09447588],\n",
              "       [0.09318543],\n",
              "       [0.09755311],\n",
              "       [0.09713123],\n",
              "       [0.10053107],\n",
              "       [0.10273973],\n",
              "       [0.10063034],\n",
              "       [0.10090332],\n",
              "       [0.10055589],\n",
              "       [0.10782708],\n",
              "       [0.110135  ],\n",
              "       [0.10901826],\n",
              "       [0.107703  ],\n",
              "       [0.11373337],\n",
              "       [0.123784  ],\n",
              "       [0.126216  ],\n",
              "       [0.12440441],\n",
              "       [0.12611674],\n",
              "       [0.13145225],\n",
              "       [0.1304596 ],\n",
              "       [0.12988882],\n",
              "       [0.11693468],\n",
              "       [0.12261763],\n",
              "       [0.12390808],\n",
              "       [0.126216  ],\n",
              "       [0.12574449],\n",
              "       [0.12460294],\n",
              "       [0.12591821],\n",
              "       [0.12527298],\n",
              "       [0.12542188],\n",
              "       [0.12316359],\n",
              "       [0.12420588],\n",
              "       [0.12983919],\n",
              "       [0.1260671 ],\n",
              "       [0.12735755],\n",
              "       [0.12964066],\n",
              "       [0.12869764],\n",
              "       [0.11378301],\n",
              "       [0.10494838],\n",
              "       [0.1078519 ],\n",
              "       [0.10430316],\n",
              "       [0.10214413],\n",
              "       [0.09713123],\n",
              "       [0.10723149],\n",
              "       [0.10393091],\n",
              "       [0.10606512],\n",
              "       [0.10546953],\n",
              "       [0.10708259],\n",
              "       [0.10594104],\n",
              "       [0.10075442],\n",
              "       [0.10596585],\n",
              "       [0.10063034],\n",
              "       [0.10147409],\n",
              "       [0.10018364],\n",
              "       [0.10164781],\n",
              "       [0.09827278],\n",
              "       [0.10187115],\n",
              "       [0.10405499],\n",
              "       [0.10522136],\n",
              "       [0.10574251],\n",
              "       [0.11078023],\n",
              "       [0.1139319 ],\n",
              "       [0.11522235],\n",
              "       [0.11651281],\n",
              "       [0.11884554],\n",
              "       [0.11715803],\n",
              "       [0.11698432],\n",
              "       [0.12150089],\n",
              "       [0.12311396],\n",
              "       [0.12490073],\n",
              "       [0.11770399],\n",
              "       [0.11507346],\n",
              "       [0.1131626 ],\n",
              "       [0.11643836],\n",
              "       [0.13403315],\n",
              "       [0.13013699],\n",
              "       [0.13217193],\n",
              "       [0.13817749],\n",
              "       [0.14132916],\n",
              "       [0.14376116],\n",
              "       [0.12951658],\n",
              "       [0.13487691],\n",
              "       [0.14075839],\n",
              "       [0.14510125],\n",
              "       [0.14348819],\n",
              "       [0.13581993],\n",
              "       [0.13492654],\n",
              "       [0.13420687],\n",
              "       [0.14058467],\n",
              "       [0.141081  ],\n",
              "       [0.13931904],\n",
              "       [0.1407832 ],\n",
              "       [0.14477864],\n",
              "       [0.14835219],\n",
              "       [0.14944411],\n",
              "       [0.15105718],\n",
              "       [0.15118126],\n",
              "       [0.14629244],\n",
              "       [0.14587056],\n",
              "       [0.14425749],\n",
              "       [0.13773079],\n",
              "       [0.14485309],\n",
              "       [0.14326484],\n",
              "       [0.14026206],\n",
              "       [0.13686222],\n",
              "       [0.14083284],\n",
              "       [0.13783006],\n",
              "       [0.13797896],\n",
              "       [0.1313778 ],\n",
              "       [0.12472702],\n",
              "       [0.12100457],\n",
              "       [0.11767917],\n",
              "       [0.12410661],\n",
              "       [0.12681159],\n",
              "       [0.12445404],\n",
              "       [0.12653861],\n",
              "       [0.12576931],\n",
              "       [0.127432  ],\n",
              "       [0.12495037],\n",
              "       [0.12969029],\n",
              "       [0.12946694],\n",
              "       [0.13080703],\n",
              "       [0.13095593],\n",
              "       [0.13256899],\n",
              "       [0.13120409],\n",
              "       [0.13366091],\n",
              "       [0.14083284],\n",
              "       [0.142297  ],\n",
              "       [0.14053504],\n",
              "       [0.13115446],\n",
              "       [0.1318245 ],\n",
              "       [0.13162597],\n",
              "       [0.13393389],\n",
              "       [0.13222156],\n",
              "       [0.1347032 ],\n",
              "       [0.14869962],\n",
              "       [0.15780723],\n",
              "       [0.16356462],\n",
              "       [0.1582291 ],\n",
              "       [0.1612567 ],\n",
              "       [0.17215108],\n",
              "       [0.17649394],\n",
              "       [0.17788366],\n",
              "       [0.1814324 ],\n",
              "       [0.18053901],\n",
              "       [0.17753623],\n",
              "       [0.17579909],\n",
              "       [0.16927238],\n",
              "       [0.16366389],\n",
              "       [0.16867679],\n",
              "       [0.16631924],\n",
              "       [0.16589736],\n",
              "       [0.17373933],\n",
              "       [0.17825591],\n",
              "       [0.17828072],\n",
              "       [0.17609688],\n",
              "       [0.17356561],\n",
              "       [0.16465654],\n",
              "       [0.17053802],\n",
              "       [0.16855271],\n",
              "       [0.16545067],\n",
              "       [0.1650536 ],\n",
              "       [0.16349017],\n",
              "       [0.16425948],\n",
              "       [0.16438356],\n",
              "       [0.17257296],\n",
              "       [0.17016577],\n",
              "       [0.17158031],\n",
              "       [0.17145622],\n",
              "       [0.17579909],\n",
              "       [0.18187909],\n",
              "       [0.17721362],\n",
              "       [0.17674211],\n",
              "       [0.17837999],\n",
              "       [0.17837999],\n",
              "       [0.16736152],\n",
              "       [0.16743597],\n",
              "       [0.16862716],\n",
              "       [0.16403613],\n",
              "       [0.17155549],\n",
              "       [0.17148104],\n",
              "       [0.17346635],\n",
              "       [0.17835517],\n",
              "       [0.17674211],\n",
              "       [0.17669248],\n",
              "       [0.17659321],\n",
              "       [0.17905003],\n",
              "       [0.18354179],\n",
              "       [0.18130832],\n",
              "       [0.18852988],\n",
              "       [0.18892694],\n",
              "       [0.18694163],\n",
              "       [0.18331844],\n",
              "       [0.18341771],\n",
              "       [0.1764195 ],\n",
              "       [0.16870161],\n",
              "       [0.16969426],\n",
              "       [0.16088446],\n",
              "       [0.15842764],\n",
              "       [0.15956919],\n",
              "       [0.16043776],\n",
              "       [0.14237145],\n",
              "       [0.13242009],\n",
              "       [0.14864999],\n",
              "       [0.13998908],\n",
              "       [0.1290947 ],\n",
              "       [0.13222156],\n",
              "       [0.14785587],\n",
              "       [0.15190093],\n",
              "       [0.15942029],\n",
              "       [0.17336708],\n",
              "       [0.17197737],\n",
              "       [0.17053802],\n",
              "       [0.16860234],\n",
              "       [0.17215108],\n",
              "       [0.17959599],\n",
              "       [0.18820727],\n",
              "       [0.18676792],\n",
              "       [0.18609788],\n",
              "       [0.17835517],\n",
              "       [0.18135795],\n",
              "       [0.18287175],\n",
              "       [0.1824995 ],\n",
              "       [0.17842962],\n",
              "       [0.18316955],\n",
              "       [0.19071372],\n",
              "       [0.19503176],\n",
              "       [0.1906889 ],\n",
              "       [0.186892  ],\n",
              "       [0.18741314],\n",
              "       [0.18584971],\n",
              "       [0.17909966],\n",
              "       [0.17895076],\n",
              "       [0.16909867],\n",
              "       [0.16309311],\n",
              "       [0.15338991],\n",
              "       [0.17282112],\n",
              "       [0.16182748],\n",
              "       [0.15721163],\n",
              "       [0.16043776],\n",
              "       [0.15770796],\n",
              "       [0.16195156],\n",
              "       [0.16994243],\n",
              "       [0.17289557],\n",
              "       [0.16192674],\n",
              "       [0.16607107],\n",
              "       [0.17401231],\n",
              "       [0.17200218],\n",
              "       [0.17622096],\n",
              "       [0.17768513],\n",
              "       [0.18039011],\n",
              "       [0.18639567],\n",
              "       [0.18540302],\n",
              "       [0.17289557],\n",
              "       [0.15532559],\n",
              "       [0.15413441],\n",
              "       [0.14842664],\n",
              "       [0.1501886 ],\n",
              "       [0.15160314],\n",
              "       [0.14688803],\n",
              "       [0.15418404],\n",
              "       [0.16371352],\n",
              "       [0.18225134],\n",
              "       [0.18304546],\n",
              "       [0.20026802],\n",
              "       [0.20356859],\n",
              "       [0.20577725],\n",
              "       [0.20902819],\n",
              "       [0.21567898],\n",
              "       [0.2120806 ],\n",
              "       [0.21098868],\n",
              "       [0.20674509],\n",
              "       [0.21106313],\n",
              "       [0.20810999],\n",
              "       [0.20642247],\n",
              "       [0.20969823],\n",
              "       [0.20853186],\n",
              "       [0.21150983],\n",
              "       [0.21098868],\n",
              "       [0.21205579],\n",
              "       [0.21036827],\n",
              "       [0.20937562],\n",
              "       [0.20781219],\n",
              "       [0.2161753 ],\n",
              "       [0.2201211 ],\n",
              "       [0.22379392],\n",
              "       [0.22545662],\n",
              "       [0.22416617],\n",
              "       [0.21979849],\n",
              "       [0.21863212],\n",
              "       [0.22123784],\n",
              "       [0.21731686],\n",
              "       [0.21756502],\n",
              "       [0.21270101],\n",
              "       [0.21245285],\n",
              "       [0.20488386],\n",
              "       [0.20689398],\n",
              "       [0.20431308],\n",
              "       [0.202973  ],\n",
              "       [0.1961485 ],\n",
              "       [0.201757  ],\n",
              "       [0.20108696],\n",
              "       [0.20441235],\n",
              "       [0.20344451],\n",
              "       [0.2085815 ],\n",
              "       [0.20049136],\n",
              "       [0.20416419],\n",
              "       [0.21054199],\n",
              "       [0.21701906],\n",
              "       [0.21644828],\n",
              "       [0.21031864],\n",
              "       [0.2181358 ],\n",
              "       [0.21888029],\n",
              "       [0.217838  ],\n",
              "       [0.21917808],\n",
              "       [0.21657236],\n",
              "       [0.22024519],\n",
              "       [0.21915327],\n",
              "       [0.21957514],\n",
              "       [0.22302462],\n",
              "       [0.2275412 ],\n",
              "       [0.2260274 ],\n",
              "       [0.21801171],\n",
              "       [0.21535636],\n",
              "       [0.21629938],\n",
              "       [0.24411852],\n",
              "       [0.25873536],\n",
              "       [0.26022434],\n",
              "       [0.26290451],\n",
              "       [0.2580405 ],\n",
              "       [0.25838793],\n",
              "       [0.262433  ],\n",
              "       [0.25908279],\n",
              "       [0.26240818],\n",
              "       [0.26459202],\n",
              "       [0.26580802],\n",
              "       [0.27345146],\n",
              "       [0.28402323],\n",
              "       [0.27876216],\n",
              "       [0.27771987],\n",
              "       [0.27774469],\n",
              "       [0.27883661],\n",
              "       [0.28049931],\n",
              "       [0.28491662],\n",
              "       [0.2892843 ],\n",
              "       [0.29742406],\n",
              "       [0.30251142],\n",
              "       [0.30896367],\n",
              "       [0.31077526],\n",
              "       [0.30707763],\n",
              "       [0.29772186],\n",
              "       [0.29325491],\n",
              "       [0.28588446],\n",
              "       [0.29958309],\n",
              "       [0.29268414],\n",
              "       [0.30593607],\n",
              "       [0.29955827],\n",
              "       [0.28476772],\n",
              "       [0.28566111],\n",
              "       [0.28598372],\n",
              "       [0.29010324],\n",
              "       [0.28422176],\n",
              "       [0.29198928],\n",
              "       [0.29546357],\n",
              "       [0.29107107],\n",
              "       [0.30231288],\n",
              "       [0.30427338],\n",
              "       [0.30804546],\n",
              "       [0.31305837],\n",
              "       [0.31998213],\n",
              "       [0.30985706],\n",
              "       [0.300675  ],\n",
              "       [0.29938455],\n",
              "       [0.30707763],\n",
              "       [0.28099563],\n",
              "       [0.27625571],\n",
              "       [0.29526504],\n",
              "       [0.28347727],\n",
              "       [0.2953643 ],\n",
              "       [0.29298193],\n",
              "       [0.28015188],\n",
              "       [0.28831646],\n",
              "       [0.29164185],\n",
              "       [0.29680365],\n",
              "       [0.27784395],\n",
              "       [0.28953246],\n",
              "       [0.28084673],\n",
              "       [0.27077129],\n",
              "       [0.27340183],\n",
              "       [0.28719972],\n",
              "       [0.29553802],\n",
              "       [0.25895871],\n",
              "       [0.24434187],\n",
              "       [0.24975184],\n",
              "       [0.26508835],\n",
              "       [0.26146516],\n",
              "       [0.25148898],\n",
              "       [0.22592813],\n",
              "       [0.22111376],\n",
              "       [0.20763848],\n",
              "       [0.21907882],\n",
              "       [0.22433988],\n",
              "       [0.20530574],\n",
              "       [0.18326881],\n",
              "       [0.18277248],\n",
              "       [0.17162994],\n",
              "       [0.17741215],\n",
              "       [0.17646913],\n",
              "       [0.19309609],\n",
              "       [0.18964662],\n",
              "       [0.18723943],\n",
              "       [0.20272484],\n",
              "       [0.18254914],\n",
              "       [0.17766031],\n",
              "       [0.16219972],\n",
              "       [0.16495434],\n",
              "       [0.16254715],\n",
              "       [0.16371352],\n",
              "       [0.16830455],\n",
              "       [0.15473   ],\n",
              "       [0.15090828],\n",
              "       [0.15619416],\n",
              "       [0.14333929],\n",
              "       [0.13326385],\n",
              "       [0.11812587],\n",
              "       [0.10844749],\n",
              "       [0.1341076 ],\n",
              "       [0.13157634],\n",
              "       [0.13177487],\n",
              "       [0.13552214],\n",
              "       [0.13596883],\n",
              "       [0.0969327 ],\n",
              "       [0.11199623],\n",
              "       [0.11117729],\n",
              "       [0.1181755 ],\n",
              "       [0.12452849],\n",
              "       [0.12574449],\n",
              "       [0.12199722],\n",
              "       [0.11631427],\n",
              "       [0.1239329 ],\n",
              "       [0.12857356],\n",
              "       [0.13085666],\n",
              "       [0.13323903],\n",
              "       [0.12450367],\n",
              "       [0.12604229],\n",
              "       [0.12301469],\n",
              "       [0.13557177],\n",
              "       [0.13194858],\n",
              "       [0.12792833],\n",
              "       [0.15415922],\n",
              "       [0.15711237],\n",
              "       [0.1573109 ],\n",
              "       [0.16904904],\n",
              "       [0.17632023],\n",
              "       [0.17646913],\n",
              "       [0.16827973],\n",
              "       [0.16696446],\n",
              "       [0.16453246],\n",
              "       [0.16815565],\n",
              "       [0.16639369],\n",
              "       [0.1679323 ],\n",
              "       [0.16698928],\n",
              "       [0.16825491],\n",
              "       [0.17098471],\n",
              "       [0.16857753],\n",
              "       [0.17331745],\n",
              "       [0.17644431],\n",
              "       [0.17669248],\n",
              "       [0.17803256],\n",
              "       [0.17376415],\n",
              "       [0.17828072],\n",
              "       [0.18046456],\n",
              "       [0.17967044],\n",
              "       [0.17716399],\n",
              "       [0.17215108],\n",
              "       [0.17316855],\n",
              "       [0.18803355],\n",
              "       [0.19302164],\n",
              "       [0.19500695],\n",
              "       [0.20001985],\n",
              "       [0.20595096],\n",
              "       [0.21066607],\n",
              "       [0.20696843],\n",
              "       [0.2110135 ],\n",
              "       [0.22821124],\n",
              "       [0.21818543],\n",
              "       [0.21245285],\n",
              "       [0.20761366],\n",
              "       [0.21178281],\n",
              "       [0.21240322],\n",
              "       [0.21545563],\n",
              "       [0.21865694],\n",
              "       [0.22555589],\n",
              "       [0.22885646],\n",
              "       [0.22970022],\n",
              "       [0.23295116],\n",
              "       [0.24064423],\n",
              "       [0.23915525],\n",
              "       [0.24193468],\n",
              "       [0.23779035],\n",
              "       [0.23759182],\n",
              "       [0.23848521],\n",
              "       [0.23853484],\n",
              "       [0.24816359],\n",
              "       [0.24997518],\n",
              "       [0.25163788],\n",
              "       [0.25895871],\n",
              "       [0.25816458],\n",
              "       [0.25349911],\n",
              "       [0.2510671 ],\n",
              "       [0.25183641],\n",
              "       [0.24205877],\n",
              "       [0.26650288],\n",
              "       [0.26310304],\n",
              "       [0.26955529],\n",
              "       [0.26144034],\n",
              "       [0.24749355],\n",
              "       [0.24759281],\n",
              "       [0.24218285],\n",
              "       [0.23339786],\n",
              "       [0.20495831],\n",
              "       [0.21225432],\n",
              "       [0.21786282],\n",
              "       [0.21577824],\n",
              "       [0.21309807],\n",
              "       [0.19843161],\n",
              "       [0.20714215],\n",
              "       [0.1976623 ],\n",
              "       [0.18991959],\n",
              "       [0.18820727],\n",
              "       [0.18637086],\n",
              "       [0.18426147],\n",
              "       [0.18654457],\n",
              "       [0.17852889],\n",
              "       [0.17413639],\n",
              "       [0.18986996],\n",
              "       [0.19706671],\n",
              "       [0.20371749],\n",
              "       [0.21595196],\n",
              "       [0.22198233],\n",
              "       [0.22751638],\n",
              "       [0.22597776],\n",
              "       [0.2258785 ],\n",
              "       [0.22237939],\n",
              "       [0.22523327],\n",
              "       [0.23654953],\n",
              "       [0.23511018],\n",
              "       [0.23905599],\n",
              "       [0.23736847],\n",
              "       [0.23687215],\n",
              "       [0.22940242],\n",
              "       [0.23989974],\n",
              "       [0.23975084],\n",
              "       [0.23523427],\n",
              "       [0.2442426 ],\n",
              "       [0.24717094],\n",
              "       [0.25134008],\n",
              "       [0.25089339],\n",
              "       [0.2404457 ],\n",
              "       [0.2434733 ],\n",
              "       [0.24841175],\n",
              "       [0.24473893],\n",
              "       [0.24858547],\n",
              "       [0.25332539],\n",
              "       [0.25156343],\n",
              "       [0.24870955],\n",
              "       [0.25444213],\n",
              "       [0.24682351],\n",
              "       [0.25831348],\n",
              "       [0.26233373],\n",
              "       [0.26191185],\n",
              "       [0.25781715],\n",
              "       [0.25960393],\n",
              "       [0.2644183 ],\n",
              "       [0.26218483],\n",
              "       [0.2727566 ],\n",
              "       [0.26131626],\n",
              "       [0.25037225],\n",
              "       [0.22386837],\n",
              "       [0.23295116],\n",
              "       [0.2380137 ],\n",
              "       [0.24890808],\n",
              "       [0.24285289],\n",
              "       [0.24158725],\n",
              "       [0.26265634],\n",
              "       [0.24722057],\n",
              "       [0.24471412],\n",
              "       [0.2565267 ],\n",
              "       [0.266081  ],\n",
              "       [0.26610582],\n",
              "       [0.27176395],\n",
              "       [0.27131725],\n",
              "       [0.24694759],\n",
              "       [0.25650189],\n",
              "       [0.25071967],\n",
              "       [0.25411952],\n",
              "       [0.26275561],\n",
              "       [0.26208557],\n",
              "       [0.25454139],\n",
              "       [0.2632023 ],\n",
              "       [0.27335219],\n",
              "       [0.27330256],\n",
              "       [0.27556085],\n",
              "       [0.28183939],\n",
              "       [0.29893786],\n",
              "       [0.29769704],\n",
              "       [0.28692674],\n",
              "       [0.28978062],\n",
              "       [0.29176593],\n",
              "       [0.29690292],\n",
              "       [0.29241116],\n",
              "       [0.28439547],\n",
              "       [0.28685229],\n",
              "       [0.28427139],\n",
              "       [0.29258487],\n",
              "       [0.28975581],\n",
              "       [0.28710046],\n",
              "       [0.29988088],\n",
              "       [0.3014195 ],\n",
              "       [0.28744789],\n",
              "       [0.29206373],\n",
              "       [0.30742505],\n",
              "       [0.30754914],\n",
              "       [0.30094798],\n",
              "       [0.30747469],\n",
              "       [0.31506849],\n",
              "       [0.3302561 ],\n",
              "       [0.32941235],\n",
              "       [0.32804745],\n",
              "       [0.32568989],\n",
              "       [0.32794818],\n",
              "       [0.33075243],\n",
              "       [0.34092714],\n",
              "       [0.33956224],\n",
              "       [0.34755311],\n",
              "       [0.34854576],\n",
              "       [0.35599067],\n",
              "       [0.36212031],\n",
              "       [0.34782609],\n",
              "       [0.34775164],\n",
              "       [0.36140064],\n",
              "       [0.37892098],\n",
              "       [0.38309013],\n",
              "       [0.38217193],\n",
              "       [0.38244491],\n",
              "       [0.38787969],\n",
              "       [0.38964165],\n",
              "       [0.39475382],\n",
              "       [0.39415823],\n",
              "       [0.40038714],\n",
              "       [0.39584574],\n",
              "       [0.40358845]])"
            ]
          },
          "metadata": {
            "tags": []
          },
          "execution_count": 17
        }
      ]
    },
    {
      "cell_type": "code",
      "metadata": {
        "id": "oYtHUReqLoV_"
      },
      "source": [
        "import numpy\n",
        "# convert an array of values into a dataset matrix\n",
        "def create_dataset(dataset, time_step=1):\n",
        "\tdataX, dataY = [], []\n",
        "\tfor i in range(len(dataset)-time_step-1):\n",
        "\t\ta = dataset[i:(i+time_step), 0]   ###i=0, 0,1,2,3-----99   100 \n",
        "\t\tdataX.append(a)\n",
        "\t\tdataY.append(dataset[i + time_step, 0])\n",
        "\treturn numpy.array(dataX), numpy.array(dataY)"
      ],
      "execution_count": 18,
      "outputs": []
    },
    {
      "cell_type": "code",
      "metadata": {
        "id": "9sjbb7dXLoSN"
      },
      "source": [
        "# reshape into X=t,t+1,t+2,t+3 and Y=t+4\n",
        "time_step = 100\n",
        "X_train, y_train = create_dataset(train_data, time_step)\n",
        "X_test, ytest = create_dataset(test_data, time_step)"
      ],
      "execution_count": 19,
      "outputs": []
    },
    {
      "cell_type": "code",
      "metadata": {
        "colab": {
          "base_uri": "https://localhost:8080/"
        },
        "id": "dzk7RUbmLzqH",
        "outputId": "85b8dd7b-d6c9-489e-c297-affb750ccf6a"
      },
      "source": [
        "print(X_train.shape), print(y_train.shape)"
      ],
      "execution_count": 20,
      "outputs": [
        {
          "output_type": "stream",
          "text": [
            "(716, 100)\n",
            "(716,)\n"
          ],
          "name": "stdout"
        },
        {
          "output_type": "execute_result",
          "data": {
            "text/plain": [
              "(None, None)"
            ]
          },
          "metadata": {
            "tags": []
          },
          "execution_count": 20
        }
      ]
    },
    {
      "cell_type": "code",
      "metadata": {
        "colab": {
          "base_uri": "https://localhost:8080/"
        },
        "id": "NxWxw75FLzlQ",
        "outputId": "f3ae2d1b-8d27-4543-b9e5-9c99538baf77"
      },
      "source": [
        "print(X_test.shape), print(ytest.shape)"
      ],
      "execution_count": 21,
      "outputs": [
        {
          "output_type": "stream",
          "text": [
            "(339, 100)\n",
            "(339,)\n"
          ],
          "name": "stdout"
        },
        {
          "output_type": "execute_result",
          "data": {
            "text/plain": [
              "(None, None)"
            ]
          },
          "metadata": {
            "tags": []
          },
          "execution_count": 21
        }
      ]
    },
    {
      "cell_type": "code",
      "metadata": {
        "id": "M0jOR_KwLzhG"
      },
      "source": [
        "# reshape input to be [samples, time steps, features] which is required for LSTM\n",
        "X_train =X_train.reshape(X_train.shape[0],X_train.shape[1] , 1)\n",
        "X_test = X_test.reshape(X_test.shape[0],X_test.shape[1] , 1)"
      ],
      "execution_count": 22,
      "outputs": []
    },
    {
      "cell_type": "code",
      "metadata": {
        "id": "WNCMkGn3Lza7"
      },
      "source": [
        "### Create the Stacked LSTM model\n",
        "from tensorflow.keras.models import Sequential\n",
        "from tensorflow.keras.layers import Dense\n",
        "from tensorflow.keras.layers import LSTM"
      ],
      "execution_count": 23,
      "outputs": []
    },
    {
      "cell_type": "code",
      "metadata": {
        "id": "ztHvvmQtLzWs"
      },
      "source": [
        "model=Sequential()\n",
        "model.add(LSTM(50,return_sequences=True,input_shape=(100,1)))\n",
        "model.add(LSTM(50,return_sequences=True))\n",
        "model.add(LSTM(50))\n",
        "model.add(Dense(1))\n",
        "model.compile(loss='mean_squared_error',optimizer='adam')"
      ],
      "execution_count": 24,
      "outputs": []
    },
    {
      "cell_type": "code",
      "metadata": {
        "colab": {
          "base_uri": "https://localhost:8080/"
        },
        "id": "zX1T1CO6LzSm",
        "outputId": "bce69efd-121f-43cd-8c49-9920447b5413"
      },
      "source": [
        "model.summary()"
      ],
      "execution_count": 25,
      "outputs": [
        {
          "output_type": "stream",
          "text": [
            "Model: \"sequential\"\n",
            "_________________________________________________________________\n",
            "Layer (type)                 Output Shape              Param #   \n",
            "=================================================================\n",
            "lstm (LSTM)                  (None, 100, 50)           10400     \n",
            "_________________________________________________________________\n",
            "lstm_1 (LSTM)                (None, 100, 50)           20200     \n",
            "_________________________________________________________________\n",
            "lstm_2 (LSTM)                (None, 50)                20200     \n",
            "_________________________________________________________________\n",
            "dense (Dense)                (None, 1)                 51        \n",
            "=================================================================\n",
            "Total params: 50,851\n",
            "Trainable params: 50,851\n",
            "Non-trainable params: 0\n",
            "_________________________________________________________________\n"
          ],
          "name": "stdout"
        }
      ]
    },
    {
      "cell_type": "code",
      "metadata": {
        "colab": {
          "base_uri": "https://localhost:8080/"
        },
        "id": "GI2VUPeALzPH",
        "outputId": "9bc741fa-246a-4c1d-e321-d16094c2722d"
      },
      "source": [
        "model.fit(X_train,y_train,validation_data=(X_test,ytest),epochs=100,batch_size=64,verbose=1)"
      ],
      "execution_count": 26,
      "outputs": [
        {
          "output_type": "stream",
          "text": [
            "Epoch 1/100\n",
            "12/12 [==============================] - 9s 313ms/step - loss: 0.0098 - val_loss: 0.0420\n",
            "Epoch 2/100\n",
            "12/12 [==============================] - 2s 195ms/step - loss: 0.0024 - val_loss: 0.0274\n",
            "Epoch 3/100\n",
            "12/12 [==============================] - 2s 200ms/step - loss: 0.0014 - val_loss: 0.0244\n",
            "Epoch 4/100\n",
            "12/12 [==============================] - 2s 195ms/step - loss: 8.3574e-04 - val_loss: 0.0214\n",
            "Epoch 5/100\n",
            "12/12 [==============================] - 2s 196ms/step - loss: 5.2063e-04 - val_loss: 0.0221\n",
            "Epoch 6/100\n",
            "12/12 [==============================] - 2s 193ms/step - loss: 5.1071e-04 - val_loss: 0.0220\n",
            "Epoch 7/100\n",
            "12/12 [==============================] - 2s 196ms/step - loss: 4.9010e-04 - val_loss: 0.0214\n",
            "Epoch 8/100\n",
            "12/12 [==============================] - 2s 194ms/step - loss: 4.6067e-04 - val_loss: 0.0206\n",
            "Epoch 9/100\n",
            "12/12 [==============================] - 2s 197ms/step - loss: 4.3815e-04 - val_loss: 0.0204\n",
            "Epoch 10/100\n",
            "12/12 [==============================] - 2s 197ms/step - loss: 4.2061e-04 - val_loss: 0.0195\n",
            "Epoch 11/100\n",
            "12/12 [==============================] - 2s 196ms/step - loss: 4.3403e-04 - val_loss: 0.0190\n",
            "Epoch 12/100\n",
            "12/12 [==============================] - 2s 196ms/step - loss: 4.1800e-04 - val_loss: 0.0190\n",
            "Epoch 13/100\n",
            "12/12 [==============================] - 2s 197ms/step - loss: 4.2842e-04 - val_loss: 0.0198\n",
            "Epoch 14/100\n",
            "12/12 [==============================] - 2s 200ms/step - loss: 3.5715e-04 - val_loss: 0.0180\n",
            "Epoch 15/100\n",
            "12/12 [==============================] - 2s 201ms/step - loss: 3.3503e-04 - val_loss: 0.0192\n",
            "Epoch 16/100\n",
            "12/12 [==============================] - 2s 207ms/step - loss: 3.1551e-04 - val_loss: 0.0185\n",
            "Epoch 17/100\n",
            "12/12 [==============================] - 2s 204ms/step - loss: 2.9948e-04 - val_loss: 0.0221\n",
            "Epoch 18/100\n",
            "12/12 [==============================] - 2s 199ms/step - loss: 2.9234e-04 - val_loss: 0.0222\n",
            "Epoch 19/100\n",
            "12/12 [==============================] - 2s 195ms/step - loss: 3.0745e-04 - val_loss: 0.0194\n",
            "Epoch 20/100\n",
            "12/12 [==============================] - 2s 195ms/step - loss: 2.7955e-04 - val_loss: 0.0197\n",
            "Epoch 21/100\n",
            "12/12 [==============================] - 2s 195ms/step - loss: 2.6776e-04 - val_loss: 0.0234\n",
            "Epoch 22/100\n",
            "12/12 [==============================] - 2s 199ms/step - loss: 2.7916e-04 - val_loss: 0.0206\n",
            "Epoch 23/100\n",
            "12/12 [==============================] - 2s 199ms/step - loss: 2.7662e-04 - val_loss: 0.0185\n",
            "Epoch 24/100\n",
            "12/12 [==============================] - 2s 197ms/step - loss: 2.8249e-04 - val_loss: 0.0212\n",
            "Epoch 25/100\n",
            "12/12 [==============================] - 2s 197ms/step - loss: 2.8790e-04 - val_loss: 0.0178\n",
            "Epoch 26/100\n",
            "12/12 [==============================] - 2s 195ms/step - loss: 2.9013e-04 - val_loss: 0.0227\n",
            "Epoch 27/100\n",
            "12/12 [==============================] - 2s 197ms/step - loss: 3.3353e-04 - val_loss: 0.0181\n",
            "Epoch 28/100\n",
            "12/12 [==============================] - 2s 198ms/step - loss: 2.5338e-04 - val_loss: 0.0204\n",
            "Epoch 29/100\n",
            "12/12 [==============================] - 2s 196ms/step - loss: 2.3634e-04 - val_loss: 0.0221\n",
            "Epoch 30/100\n",
            "12/12 [==============================] - 2s 200ms/step - loss: 2.4124e-04 - val_loss: 0.0215\n",
            "Epoch 31/100\n",
            "12/12 [==============================] - 2s 202ms/step - loss: 2.3139e-04 - val_loss: 0.0189\n",
            "Epoch 32/100\n",
            "12/12 [==============================] - 2s 198ms/step - loss: 2.5506e-04 - val_loss: 0.0219\n",
            "Epoch 33/100\n",
            "12/12 [==============================] - 2s 195ms/step - loss: 2.3653e-04 - val_loss: 0.0198\n",
            "Epoch 34/100\n",
            "12/12 [==============================] - 2s 196ms/step - loss: 2.7212e-04 - val_loss: 0.0216\n",
            "Epoch 35/100\n",
            "12/12 [==============================] - 2s 193ms/step - loss: 2.7936e-04 - val_loss: 0.0181\n",
            "Epoch 36/100\n",
            "12/12 [==============================] - 2s 198ms/step - loss: 2.4182e-04 - val_loss: 0.0174\n",
            "Epoch 37/100\n",
            "12/12 [==============================] - 2s 199ms/step - loss: 2.1711e-04 - val_loss: 0.0198\n",
            "Epoch 38/100\n",
            "12/12 [==============================] - 2s 197ms/step - loss: 2.1265e-04 - val_loss: 0.0197\n",
            "Epoch 39/100\n",
            "12/12 [==============================] - 2s 197ms/step - loss: 2.1561e-04 - val_loss: 0.0217\n",
            "Epoch 40/100\n",
            "12/12 [==============================] - 2s 198ms/step - loss: 2.1161e-04 - val_loss: 0.0194\n",
            "Epoch 41/100\n",
            "12/12 [==============================] - 2s 200ms/step - loss: 2.0566e-04 - val_loss: 0.0222\n",
            "Epoch 42/100\n",
            "12/12 [==============================] - 2s 200ms/step - loss: 2.1497e-04 - val_loss: 0.0182\n",
            "Epoch 43/100\n",
            "12/12 [==============================] - 2s 201ms/step - loss: 2.2177e-04 - val_loss: 0.0242\n",
            "Epoch 44/100\n",
            "12/12 [==============================] - 2s 201ms/step - loss: 2.4578e-04 - val_loss: 0.0174\n",
            "Epoch 45/100\n",
            "12/12 [==============================] - 2s 199ms/step - loss: 2.1014e-04 - val_loss: 0.0197\n",
            "Epoch 46/100\n",
            "12/12 [==============================] - 2s 198ms/step - loss: 2.2072e-04 - val_loss: 0.0185\n",
            "Epoch 47/100\n",
            "12/12 [==============================] - 2s 197ms/step - loss: 2.0103e-04 - val_loss: 0.0215\n",
            "Epoch 48/100\n",
            "12/12 [==============================] - 2s 198ms/step - loss: 2.0681e-04 - val_loss: 0.0184\n",
            "Epoch 49/100\n",
            "12/12 [==============================] - 2s 198ms/step - loss: 2.1354e-04 - val_loss: 0.0212\n",
            "Epoch 50/100\n",
            "12/12 [==============================] - 2s 199ms/step - loss: 1.9663e-04 - val_loss: 0.0200\n",
            "Epoch 51/100\n",
            "12/12 [==============================] - 2s 199ms/step - loss: 1.8964e-04 - val_loss: 0.0193\n",
            "Epoch 52/100\n",
            "12/12 [==============================] - 2s 199ms/step - loss: 1.8772e-04 - val_loss: 0.0208\n",
            "Epoch 53/100\n",
            "12/12 [==============================] - 2s 197ms/step - loss: 1.9041e-04 - val_loss: 0.0203\n",
            "Epoch 54/100\n",
            "12/12 [==============================] - 2s 197ms/step - loss: 1.9609e-04 - val_loss: 0.0173\n",
            "Epoch 55/100\n",
            "12/12 [==============================] - 2s 201ms/step - loss: 2.2558e-04 - val_loss: 0.0182\n",
            "Epoch 56/100\n",
            "12/12 [==============================] - 2s 197ms/step - loss: 2.4825e-04 - val_loss: 0.0185\n",
            "Epoch 57/100\n",
            "12/12 [==============================] - 2s 198ms/step - loss: 1.8327e-04 - val_loss: 0.0183\n",
            "Epoch 58/100\n",
            "12/12 [==============================] - 2s 195ms/step - loss: 2.1233e-04 - val_loss: 0.0203\n",
            "Epoch 59/100\n",
            "12/12 [==============================] - 2s 202ms/step - loss: 1.8763e-04 - val_loss: 0.0175\n",
            "Epoch 60/100\n",
            "12/12 [==============================] - 2s 196ms/step - loss: 1.8757e-04 - val_loss: 0.0207\n",
            "Epoch 61/100\n",
            "12/12 [==============================] - 2s 197ms/step - loss: 2.0160e-04 - val_loss: 0.0172\n",
            "Epoch 62/100\n",
            "12/12 [==============================] - 2s 196ms/step - loss: 1.8381e-04 - val_loss: 0.0161\n",
            "Epoch 63/100\n",
            "12/12 [==============================] - 2s 199ms/step - loss: 1.8689e-04 - val_loss: 0.0192\n",
            "Epoch 64/100\n",
            "12/12 [==============================] - 2s 196ms/step - loss: 1.7152e-04 - val_loss: 0.0163\n",
            "Epoch 65/100\n",
            "12/12 [==============================] - 2s 197ms/step - loss: 1.8384e-04 - val_loss: 0.0188\n",
            "Epoch 66/100\n",
            "12/12 [==============================] - 2s 197ms/step - loss: 1.9919e-04 - val_loss: 0.0181\n",
            "Epoch 67/100\n",
            "12/12 [==============================] - 2s 196ms/step - loss: 1.9248e-04 - val_loss: 0.0168\n",
            "Epoch 68/100\n",
            "12/12 [==============================] - 2s 204ms/step - loss: 1.9738e-04 - val_loss: 0.0183\n",
            "Epoch 69/100\n",
            "12/12 [==============================] - 2s 196ms/step - loss: 2.4180e-04 - val_loss: 0.0149\n",
            "Epoch 70/100\n",
            "12/12 [==============================] - 2s 197ms/step - loss: 2.2912e-04 - val_loss: 0.0142\n",
            "Epoch 71/100\n",
            "12/12 [==============================] - 2s 201ms/step - loss: 1.6273e-04 - val_loss: 0.0164\n",
            "Epoch 72/100\n",
            "12/12 [==============================] - 2s 199ms/step - loss: 1.5880e-04 - val_loss: 0.0149\n",
            "Epoch 73/100\n",
            "12/12 [==============================] - 2s 197ms/step - loss: 1.5631e-04 - val_loss: 0.0147\n",
            "Epoch 74/100\n",
            "12/12 [==============================] - 2s 198ms/step - loss: 1.5515e-04 - val_loss: 0.0143\n",
            "Epoch 75/100\n",
            "12/12 [==============================] - 2s 194ms/step - loss: 1.5529e-04 - val_loss: 0.0145\n",
            "Epoch 76/100\n",
            "12/12 [==============================] - 2s 195ms/step - loss: 1.5256e-04 - val_loss: 0.0139\n",
            "Epoch 77/100\n",
            "12/12 [==============================] - 2s 204ms/step - loss: 1.5134e-04 - val_loss: 0.0129\n",
            "Epoch 78/100\n",
            "12/12 [==============================] - 2s 197ms/step - loss: 1.5415e-04 - val_loss: 0.0132\n",
            "Epoch 79/100\n",
            "12/12 [==============================] - 2s 196ms/step - loss: 1.5229e-04 - val_loss: 0.0137\n",
            "Epoch 80/100\n",
            "12/12 [==============================] - 2s 196ms/step - loss: 1.6008e-04 - val_loss: 0.0123\n",
            "Epoch 81/100\n",
            "12/12 [==============================] - 2s 196ms/step - loss: 1.5274e-04 - val_loss: 0.0124\n",
            "Epoch 82/100\n",
            "12/12 [==============================] - 2s 197ms/step - loss: 1.4416e-04 - val_loss: 0.0121\n",
            "Epoch 83/100\n",
            "12/12 [==============================] - 2s 199ms/step - loss: 1.5277e-04 - val_loss: 0.0124\n",
            "Epoch 84/100\n",
            "12/12 [==============================] - 2s 197ms/step - loss: 1.4865e-04 - val_loss: 0.0125\n",
            "Epoch 85/100\n",
            "12/12 [==============================] - 2s 196ms/step - loss: 1.5016e-04 - val_loss: 0.0115\n",
            "Epoch 86/100\n",
            "12/12 [==============================] - 2s 198ms/step - loss: 1.6009e-04 - val_loss: 0.0137\n",
            "Epoch 87/100\n",
            "12/12 [==============================] - 2s 198ms/step - loss: 1.6987e-04 - val_loss: 0.0118\n",
            "Epoch 88/100\n",
            "12/12 [==============================] - 2s 197ms/step - loss: 1.5852e-04 - val_loss: 0.0111\n",
            "Epoch 89/100\n",
            "12/12 [==============================] - 2s 198ms/step - loss: 1.6594e-04 - val_loss: 0.0116\n",
            "Epoch 90/100\n",
            "12/12 [==============================] - 2s 200ms/step - loss: 1.6463e-04 - val_loss: 0.0111\n",
            "Epoch 91/100\n",
            "12/12 [==============================] - 2s 197ms/step - loss: 1.4808e-04 - val_loss: 0.0116\n",
            "Epoch 92/100\n",
            "12/12 [==============================] - 2s 196ms/step - loss: 1.4001e-04 - val_loss: 0.0106\n",
            "Epoch 93/100\n",
            "12/12 [==============================] - 2s 200ms/step - loss: 1.4143e-04 - val_loss: 0.0102\n",
            "Epoch 94/100\n",
            "12/12 [==============================] - 2s 198ms/step - loss: 1.6614e-04 - val_loss: 0.0127\n",
            "Epoch 95/100\n",
            "12/12 [==============================] - 2s 201ms/step - loss: 1.4938e-04 - val_loss: 0.0108\n",
            "Epoch 96/100\n",
            "12/12 [==============================] - 2s 195ms/step - loss: 1.4119e-04 - val_loss: 0.0103\n",
            "Epoch 97/100\n",
            "12/12 [==============================] - 2s 194ms/step - loss: 1.4961e-04 - val_loss: 0.0113\n",
            "Epoch 98/100\n",
            "12/12 [==============================] - 2s 197ms/step - loss: 1.3701e-04 - val_loss: 0.0098\n",
            "Epoch 99/100\n",
            "12/12 [==============================] - 2s 199ms/step - loss: 1.3286e-04 - val_loss: 0.0106\n",
            "Epoch 100/100\n",
            "12/12 [==============================] - 2s 196ms/step - loss: 1.5307e-04 - val_loss: 0.0088\n"
          ],
          "name": "stdout"
        },
        {
          "output_type": "execute_result",
          "data": {
            "text/plain": [
              "<keras.callbacks.History at 0x7f8d031bd090>"
            ]
          },
          "metadata": {
            "tags": []
          },
          "execution_count": 26
        }
      ]
    },
    {
      "cell_type": "code",
      "metadata": {
        "id": "0GnZJa0gMJf7"
      },
      "source": [
        "import tensorflow as tf"
      ],
      "execution_count": 27,
      "outputs": []
    },
    {
      "cell_type": "code",
      "metadata": {
        "colab": {
          "base_uri": "https://localhost:8080/",
          "height": 35
        },
        "id": "4mTuefWbMJbx",
        "outputId": "0e1be281-b65e-4c99-c7c6-5973d0198535"
      },
      "source": [
        "tf.__version__"
      ],
      "execution_count": 28,
      "outputs": [
        {
          "output_type": "execute_result",
          "data": {
            "application/vnd.google.colaboratory.intrinsic+json": {
              "type": "string"
            },
            "text/plain": [
              "'2.6.0'"
            ]
          },
          "metadata": {
            "tags": []
          },
          "execution_count": 28
        }
      ]
    },
    {
      "cell_type": "code",
      "metadata": {
        "id": "AbsND2BxMJW_"
      },
      "source": [
        "### Lets Do the prediction and check performance metrics\n",
        "train_predict=model.predict(X_train)\n",
        "test_predict=model.predict(X_test)"
      ],
      "execution_count": 29,
      "outputs": []
    },
    {
      "cell_type": "code",
      "metadata": {
        "id": "HUhO_QdgMJSZ"
      },
      "source": [
        "##Transformback to original form\n",
        "train_predict=scaler.inverse_transform(train_predict)\n",
        "test_predict=scaler.inverse_transform(test_predict)"
      ],
      "execution_count": 30,
      "outputs": []
    },
    {
      "cell_type": "code",
      "metadata": {
        "colab": {
          "base_uri": "https://localhost:8080/"
        },
        "id": "6_sgLzDpMJOO",
        "outputId": "23e774f5-c662-4f43-981c-c3fe520ad4b3"
      },
      "source": [
        "### Calculate RMSE performance metrics\n",
        "import math\n",
        "from sklearn.metrics import mean_squared_error\n",
        "math.sqrt(mean_squared_error(y_train,train_predict))"
      ],
      "execution_count": 31,
      "outputs": [
        {
          "output_type": "execute_result",
          "data": {
            "text/plain": [
              "177.49007460817978"
            ]
          },
          "metadata": {
            "tags": []
          },
          "execution_count": 31
        }
      ]
    },
    {
      "cell_type": "code",
      "metadata": {
        "colab": {
          "base_uri": "https://localhost:8080/"
        },
        "id": "g85NTyUiMJKw",
        "outputId": "d773a273-16d7-4d9b-957e-0f2d13ffd207"
      },
      "source": [
        "### Test Data RMSE\n",
        "math.sqrt(mean_squared_error(ytest,test_predict))"
      ],
      "execution_count": 32,
      "outputs": [
        {
          "output_type": "execute_result",
          "data": {
            "text/plain": [
              "216.61436755921895"
            ]
          },
          "metadata": {
            "tags": []
          },
          "execution_count": 32
        }
      ]
    },
    {
      "cell_type": "code",
      "metadata": {
        "colab": {
          "base_uri": "https://localhost:8080/",
          "height": 265
        },
        "id": "SxvUIQVVMpz2",
        "outputId": "fdd3b32f-008e-40c4-a516-501276f5434f"
      },
      "source": [
        "### Plotting \n",
        "# shift train predictions for plotting\n",
        "look_back=100\n",
        "trainPredictPlot = numpy.empty_like(df1)\n",
        "trainPredictPlot[:, :] = np.nan\n",
        "trainPredictPlot[look_back:len(train_predict)+look_back, :] = train_predict\n",
        "# shift test predictions for plotting\n",
        "testPredictPlot = numpy.empty_like(df1)\n",
        "testPredictPlot[:, :] = numpy.nan\n",
        "testPredictPlot[len(train_predict)+(look_back*2)+1:len(df1)-1, :] = test_predict\n",
        "# plot baseline and predictions\n",
        "plt.plot(scaler.inverse_transform(df1))\n",
        "plt.plot(trainPredictPlot)\n",
        "plt.plot(testPredictPlot)\n",
        "plt.show()"
      ],
      "execution_count": 33,
      "outputs": [
        {
          "output_type": "display_data",
          "data": {
            "image/png": "[encoded data removed]",
            "text/plain": [
              "<Figure size 432x288 with 1 Axes>"
            ]
          },
          "metadata": {
            "tags": [],
            "needs_background": "light"
          }
        }
      ]
    },
    {
      "cell_type": "code",
      "metadata": {
        "colab": {
          "base_uri": "https://localhost:8080/"
        },
        "id": "1RTNKWThMpt5",
        "outputId": "4230858c-35b8-4387-9849-240a471fb8eb"
      },
      "source": [
        "len(test_data)"
      ],
      "execution_count": 34,
      "outputs": [
        {
          "output_type": "execute_result",
          "data": {
            "text/plain": [
              "440"
            ]
          },
          "metadata": {
            "tags": []
          },
          "execution_count": 34
        }
      ]
    },
    {
      "cell_type": "code",
      "metadata": {
        "colab": {
          "base_uri": "https://localhost:8080/"
        },
        "id": "iEYFU597MuWS",
        "outputId": "e731cbcb-df07-4d4b-ef5b-ccecf1a4246a"
      },
      "source": [
        "x_input=test_data[341:].reshape(1,-1)\n",
        "x_input.shape"
      ],
      "execution_count": 35,
      "outputs": [
        {
          "output_type": "execute_result",
          "data": {
            "text/plain": [
              "(1, 99)"
            ]
          },
          "metadata": {
            "tags": []
          },
          "execution_count": 35
        }
      ]
    },
    {
      "cell_type": "code",
      "metadata": {
        "id": "gAsyEB4xMuMG"
      },
      "source": [
        "temp_input=list(x_input)\n",
        "temp_input=temp_input[0].tolist()"
      ],
      "execution_count": 36,
      "outputs": []
    },
    {
      "cell_type": "code",
      "metadata": {
        "colab": {
          "base_uri": "https://localhost:8080/"
        },
        "id": "c8G6JbzLMuGp",
        "outputId": "3248b536-2e1a-4af4-a987-d2197621e33a"
      },
      "source": [
        "temp_input"
      ],
      "execution_count": 37,
      "outputs": [
        {
          "output_type": "execute_result",
          "data": {
            "text/plain": [
              "[0.045314671431407605,\n",
              " 0.04161703394877908,\n",
              " 0.047200714711137626,\n",
              " 0.04931010522136198,\n",
              " 0.05650684931506855,\n",
              " 0.05727615644232681,\n",
              " 0.06147012110383171,\n",
              " 0.06757494540401038,\n",
              " 0.0741140559857058,\n",
              " 0.06975878499106619,\n",
              " 0.07767520349414342,\n",
              " 0.07171927734762762,\n",
              " 0.07784891800675009,\n",
              " 0.07700516180266037,\n",
              " 0.07869267421083981,\n",
              " 0.07439944411355975,\n",
              " 0.07536728211236854,\n",
              " 0.07149593011713323,\n",
              " 0.07740222354576137,\n",
              " 0.07839487790351402,\n",
              " 0.0775759380583681,\n",
              " 0.07556581298391907,\n",
              " 0.07531764939448088,\n",
              " 0.07030474488783012,\n",
              " 0.0729849116537622,\n",
              " 0.06134603930911259,\n",
              " 0.061966448282707975,\n",
              " 0.06603633114949381,\n",
              " 0.06720270001985312,\n",
              " 0.05886440341473104,\n",
              " 0.056531665674012355,\n",
              " 0.048739328965654194,\n",
              " 0.05419892793329367,\n",
              " 0.06035338495136,\n",
              " 0.05742505459598973,\n",
              " 0.05390113162596788,\n",
              " 0.05350406988286682,\n",
              " 0.06000595592614655,\n",
              " 0.055340480444709184,\n",
              " 0.059484812388326425,\n",
              " 0.0589884852094501,\n",
              " 0.05886440341473104,\n",
              " 0.054968235060551984,\n",
              " 0.053305539011316294,\n",
              " 0.05248659916617038,\n",
              " 0.054422275163788,\n",
              " 0.05065018860432802,\n",
              " 0.056482032956124695,\n",
              " 0.05650684931506855,\n",
              " 0.058591423466349046,\n",
              " 0.05955926146515789,\n",
              " 0.057027992852888676,\n",
              " 0.06010522136192181,\n",
              " 0.06787274171133612,\n",
              " 0.06578816756005562,\n",
              " 0.06705380186619025,\n",
              " 0.07112368473297598,\n",
              " 0.06782310899344857,\n",
              " 0.07238931903911067,\n",
              " 0.07655846734167165,\n",
              " 0.0758636092912448,\n",
              " 0.07514393488187415,\n",
              " 0.07439944411355975,\n",
              " 0.07854377605717694,\n",
              " 0.08239031169346839,\n",
              " 0.08395374230692881,\n",
              " 0.08472304943418707,\n",
              " 0.09139864999007352,\n",
              " 0.09651081993249955,\n",
              " 0.10283899146317255,\n",
              " 0.09953841572364508,\n",
              " 0.10417907484613864,\n",
              " 0.10266527695056588,\n",
              " 0.10549434187016082,\n",
              " 0.11420488385944022,\n",
              " 0.11254218781020453,\n",
              " 0.10735556879094699,\n",
              " 0.0975779233670836,\n",
              " 0.10675997617629546,\n",
              " 0.1048987492555093,\n",
              " 0.10837303950764349,\n",
              " 0.11274071868175506,\n",
              " 0.11380782211633916,\n",
              " 0.10829859043081208,\n",
              " 0.10385646217986899,\n",
              " 0.10549434187016082,\n",
              " 0.1060403017669248,\n",
              " 0.10519654556283509,\n",
              " 0.10976275560849719,\n",
              " 0.10874528489180069,\n",
              " 0.10901826484018268,\n",
              " 0.1067351598173516,\n",
              " 0.10661107802263259,\n",
              " 0.10539507643438556,\n",
              " 0.1060403017669248,\n",
              " 0.11355965852690092,\n",
              " 0.1140808020647211,\n",
              " 0.11909370657137192,\n",
              " 0.11678578518959704]"
            ]
          },
          "metadata": {
            "tags": []
          },
          "execution_count": 37
        }
      ]
    },
    {
      "cell_type": "code",
      "metadata": {
        "id": "TCS_DYpsMzG_",
        "colab": {
          "base_uri": "https://localhost:8080/",
          "height": 244
        },
        "outputId": "00e1bab4-b9d9-4b49-ad8d-9c347673613a"
      },
      "source": [
        "# demonstrate prediction for next 10 days\n",
        "from numpy import array\n",
        "\n",
        "lst_output=[]\n",
        "n_steps=100\n",
        "i=0\n",
        "while(i<30):\n",
        "    \n",
        "    if(len(temp_input)>100):\n",
        "        #print(temp_input)\n",
        "        x_input=np.array(temp_input[1:])\n",
        "        print(\"{} day input {}\".format(i,x_input))\n",
        "        x_input=x_input.reshape(1,-1)\n",
        "        x_input = x_input.reshape((1, n_steps, 1))\n",
        "        #print(x_input)\n",
        "        yhat = model.predict(x_input, verbose=0)\n",
        "        print(\"{} day output {}\".format(i,yhat))\n",
        "        temp_input.extend(yhat[0].tolist())\n",
        "        temp_input=temp_input[1:]\n",
        "        #print(temp_input)\n",
        "        lst_output.extend(yhat.tolist())\n",
        "        i=i+1\n",
        "    else:\n",
        "        x_input = x_input.reshape((1, n_steps,1))\n",
        "        yhat = model.predict(x_input, verbose=0)\n",
        "        print(yhat[0])\n",
        "        temp_input.extend(yhat[0].tolist())\n",
        "        print(len(temp_input))\n",
        "        lst_output.extend(yhat.tolist())\n",
        "        i=i+1\n",
        "    \n",
        "\n",
        "print(lst_output)"
      ],
      "execution_count": 38,
      "outputs": [
        {
          "output_type": "error",
          "ename": "ValueError",
          "evalue": "ignored",
          "traceback": [
            "\u001b[0;31m---------------------------------------------------------------------------\u001b[0m",
            "\u001b[0;31mValueError\u001b[0m                                Traceback (most recent call last)",
            "\u001b[0;32m<ipython-input-38-b8544ff16353>\u001b[0m in \u001b[0;36m<module>\u001b[0;34m()\u001b[0m\n\u001b[1;32m     22\u001b[0m         \u001b[0mi\u001b[0m\u001b[0;34m=\u001b[0m\u001b[0mi\u001b[0m\u001b[0;34m+\u001b[0m\u001b[0;36m1\u001b[0m\u001b[0;34m\u001b[0m\u001b[0;34m\u001b[0m\u001b[0m\n\u001b[1;32m     23\u001b[0m     \u001b[0;32melse\u001b[0m\u001b[0;34m:\u001b[0m\u001b[0;34m\u001b[0m\u001b[0;34m\u001b[0m\u001b[0m\n\u001b[0;32m---> 24\u001b[0;31m         \u001b[0mx_input\u001b[0m \u001b[0;34m=\u001b[0m \u001b[0mx_input\u001b[0m\u001b[0;34m.\u001b[0m\u001b[0mreshape\u001b[0m\u001b[0;34m(\u001b[0m\u001b[0;34m(\u001b[0m\u001b[0;36m1\u001b[0m\u001b[0;34m,\u001b[0m \u001b[0mn_steps\u001b[0m\u001b[0;34m,\u001b[0m\u001b[0;36m1\u001b[0m\u001b[0;34m)\u001b[0m\u001b[0;34m)\u001b[0m\u001b[0;34m\u001b[0m\u001b[0;34m\u001b[0m\u001b[0m\n\u001b[0m\u001b[1;32m     25\u001b[0m         \u001b[0myhat\u001b[0m \u001b[0;34m=\u001b[0m \u001b[0mmodel\u001b[0m\u001b[0;34m.\u001b[0m\u001b[0mpredict\u001b[0m\u001b[0;34m(\u001b[0m\u001b[0mx_input\u001b[0m\u001b[0;34m,\u001b[0m \u001b[0mverbose\u001b[0m\u001b[0;34m=\u001b[0m\u001b[0;36m0\u001b[0m\u001b[0;34m)\u001b[0m\u001b[0;34m\u001b[0m\u001b[0;34m\u001b[0m\u001b[0m\n\u001b[1;32m     26\u001b[0m         \u001b[0mprint\u001b[0m\u001b[0;34m(\u001b[0m\u001b[0myhat\u001b[0m\u001b[0;34m[\u001b[0m\u001b[0;36m0\u001b[0m\u001b[0;34m]\u001b[0m\u001b[0;34m)\u001b[0m\u001b[0;34m\u001b[0m\u001b[0;34m\u001b[0m\u001b[0m\n",
            "\u001b[0;31mValueError\u001b[0m: cannot reshape array of size 99 into shape (1,100,1)"
          ]
        }
      ]
    },
    {
      "cell_type": "code",
      "metadata": {
        "id": "FrQ0nguyM5se"
      },
      "source": [
        "day_new=np.arange(1,101)\n",
        "day_pred=np.arange(101,131)"
      ],
      "execution_count": 39,
      "outputs": []
    },
    {
      "cell_type": "code",
      "metadata": {
        "id": "S9D8kz-aM5nZ"
      },
      "source": [
        "import matplotlib.pyplot as plt"
      ],
      "execution_count": null,
      "outputs": []
    },
    {
      "cell_type": "code",
      "metadata": {
        "id": "MhzP04uLM5ib"
      },
      "source": [
        "len(df1)"
      ],
      "execution_count": null,
      "outputs": []
    },
    {
      "cell_type": "code",
      "metadata": {
        "id": "1wXUg2WKNDeW"
      },
      "source": [
        "df3=scaler.inverse_transform(df3).tolist()"
      ],
      "execution_count": null,
      "outputs": []
    },
    {
      "cell_type": "code",
      "metadata": {
        "id": "tTQwZO0cNFZd"
      },
      "source": [
        "plt.plot(df3)"
      ],
      "execution_count": null,
      "outputs": []
    }
  ]
}